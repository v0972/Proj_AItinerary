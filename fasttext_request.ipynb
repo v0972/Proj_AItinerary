{
 "cells": [
  {
   "cell_type": "code",
   "execution_count": 5,
   "metadata": {},
   "outputs": [
    {
     "name": "stdout",
     "output_type": "stream",
     "text": [
      "\n",
      "        外交部從91年8月1日起在領事事務局資訊網開設「旅外國人動態登錄網頁(出國登錄)」，「出國登錄」服務是外交部提供民眾的安心措施，\n",
      "        民眾出國前先做登錄，留下個人緊急聯絡資訊，當發生天災、動亂、急難事件或有協尋請求時，駐外館處能立即聯繫國人提供協助，\n",
      "        尤其是要前往治安不佳、安全堪慮的地區或是計劃在某地停留較長時間的國人。大陸及港澳急難救助業務係屬大陸委員會主管，\n",
      "        國人赴港澳請至該會提供之國人赴港澳動態登錄網頁進行個人資料登錄，倘於大陸及港澳遇有急難情形，\n",
      "        請與該會聯繫(電話:02-2397-5589)以得到最佳協助。\n"
     ]
    }
   ],
   "source": [
    "import requests\n",
    "import json\n",
    "req = requests.post('http://127.0.0.1:5000/', json = {'question': '日本妹太厲害了'})\n",
    "print(req.text)"
   ]
  },
  {
   "cell_type": "code",
   "execution_count": null,
   "metadata": {},
   "outputs": [],
   "source": []
  }
 ],
 "metadata": {
  "kernelspec": {
   "display_name": "Python 3",
   "language": "python",
   "name": "python3"
  },
  "language_info": {
   "codemirror_mode": {
    "name": "ipython",
    "version": 3
   },
   "file_extension": ".py",
   "mimetype": "text/x-python",
   "name": "python",
   "nbconvert_exporter": "python",
   "pygments_lexer": "ipython3",
   "version": "3.7.2"
  }
 },
 "nbformat": 4,
 "nbformat_minor": 2
}
